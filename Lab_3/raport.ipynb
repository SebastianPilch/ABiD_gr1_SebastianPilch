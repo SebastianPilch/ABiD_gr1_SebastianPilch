{
 "cells": [
  {
   "source": [
    "# <center>Laboratorium Analiza i bazy danych </center>\n",
    "\n",
    "## <center>Łączenie tabel, podzapytania i funkcje agregujące</center>"
   ],
   "cell_type": "markdown",
   "metadata": {}
  },
  {
   "source": [
    "## Przykładowe tabele obrazujące łączenie\n",
    "\n",
    "Do zobrazowania operacji łączenia zostaną użyte tabele:\n",
    "\n",
    "```sql\n",
    "CREATE TABLE shape_a (\n",
    "    id INT PRIMARY KEY,\n",
    "    shape VARCHAR (100) NOT NULL\n",
    ");\n",
    " \n",
    "CREATE TABLE shape_b (\n",
    "    id INT PRIMARY KEY,\n",
    "    shape VARCHAR (100) NOT NULL\n",
    ");\n",
    "```\n",
    " \n",
    "Polecenie CREATE TABLE tworzy tabelę o zadanej nazwie i strukturze. Ogólna postać to:\n",
    "```sql\n",
    "CREATE TABLE tab_name (\n",
    "    col_name1 data_type constrain,\n",
    "    col_name1 data_type constrain,\n",
    "    ...\n",
    ");\n",
    "```\n",
    "Należy uzupełnić ją danymi:\n",
    "```sql\n",
    "INSERT INTO shape_a (id, shape)\n",
    "VALUES\n",
    "    (1, 'Trójkąt'),\n",
    "    (2, 'Kwadrat'),\n",
    "    (3, 'Deltoid'),\n",
    "    (4, 'Traper');\n",
    " \n",
    "INSERT INTO shape_b (id, shape)\n",
    "VALUES\n",
    "    (1, 'Kwadrat'),\n",
    "    (2, 'Trójkąt'),\n",
    "    (3, 'Romb'),\n",
    "    (4, 'Równoległobok');\n",
    "```\n",
    "Komenda INSERT INTO pozwala na dodanie do tabeli rekordów. Ogólna postać to:\n",
    "\n",
    "```sql\n",
    "INSERT INTO tab_name (col1_name, col2_name2, ...) \n",
    "VALUES\n",
    "    (val1_col1, val2_col2),\n",
    "    (val2_col1, val2_col2),\n",
    "    ...\n",
    "```"
   ],
   "cell_type": "markdown",
   "metadata": {}
  },
  {
   "source": [
    "## Inner join \n",
    "\n",
    "Jest to podstawowy rodzaj złączenie. Ten sposób złączenia wybiera  te wiersze, dla których warunek złączenia jest spełniony. W żadnej z łączonych tabel kolumna użyta do łączenia nie może mieć wartości NULL. \n",
    "\n",
    "#### Przykład:\n",
    "```sql\n",
    "SELECT\n",
    "    a.id id_a,\n",
    "    a.shape shape_a,\n",
    "    b.id id_b,\n",
    "    b.shape shape_b\n",
    "FROM\n",
    "    shape_a a\n",
    "INNER JOIN shape_b b ON a.shape = b.shape;\n",
    "```\n",
    "W zapytaniu powyżej użyto *aliasów* nazw tabel i column wynikowych, jest to szczególnie przydatne przy długich nazwach tabel i wprowadza czytelność w zapytaniu.\n",
    "\n",
    "#### Wynik:\n",
    "|id_a|shape_a|id_b|shape_b|\n",
    "|-|-|-|-|\n",
    "|1|Trójkąt|2|Trójkąt|\n",
    "|2|Kwadrat|1|Kwadrat|"
   ],
   "cell_type": "markdown",
   "metadata": {}
  },
  {
   "source": [
    "## OUTER JOIN\n",
    "\n",
    "Istnieją trzy rodzaje złączeń OUTER:\n",
    "- LEFT OUTER JOIN,\n",
    "- RIGHT OUTER JOIN,\n",
    "- FULL OUTER JOIN.\n",
    "\n",
    "### LEFT OUTER JOIN\n",
    "\n",
    "Ten rodzaj złączenie zwróci wszystkie rekordy z lewej tablicy i dopasuje do nich rekordy z prawej tablicy które spełniją zadany warunek złączenia. Jeżeli w prawej tablicy nie występują rekordy spełnijące warunek złączenia z lewą w ich miejscu pojawią się wartości NULL.\n",
    "\n",
    "#### Przykład 1:\n",
    "```sql\n",
    "SELECT\n",
    "    a.id id_a,\n",
    "    a.shape shape_a,\n",
    "    b.id id_b,\n",
    "    b.shape shape_b\n",
    "FROM\n",
    "    shape_a a\n",
    "LEFT JOIN shape_b b ON a.shape = b.shape;\n",
    "```\n",
    "#### Wynik:\n",
    "|id_a|shape_a|id_b|shape_b|\n",
    "|-|-|-|-|\n",
    "|1|Trójkąt|2|Trójkąt|\n",
    "|2|Kwadrat|1|Kwadrat|\n",
    "|3|Deltoid|NULL|NULL|\n",
    "|4|Traper|NULL|NULL|\n",
    "\n",
    "#### Przykład 2:\n",
    "```sql\n",
    "SELECT\n",
    "    b.id id_b,\n",
    "    b.shape shape_b,\n",
    "    a.id id_a,\n",
    "    a.shape shape_a   \n",
    "FROM\n",
    "    shape_b b\n",
    "LEFT JOIN shape_a a ON a.shape = b.shape;\n",
    "```\n",
    "#### Wynik:\n",
    "|id_a|shape_a|id_b|shape_b|\n",
    "|-|-|-|-|\n",
    "|1|Kwadrat|2|Kwadrat|\n",
    "|2|Trójkąt|1|Trójkąt|\n",
    "|3|Romb|NULL|NULL|\n",
    "|4|Równoległobok|NULL|NULL|\n",
    "\n",
    "### RIGHT OUTER JOIN\n",
    "\n",
    "Działa jak left outer join z tym, że prawa tablica w zapytaniu jest brana w całości.\n",
    "\n",
    "#### Przykład:\n",
    "```sql\n",
    "SELECT\n",
    "    a.id id_a,\n",
    "    a.shape shape_a,\n",
    "    b.id id_b,\n",
    "    b.shape shape_b\n",
    "FROM\n",
    "    shape_a a\n",
    "RIGHT JOIN shape_b b ON a.shape = b.shape;\n",
    "```\n",
    "\n",
    "#### Wynik:\n",
    "|id_a|shape_a|id_b|shape_b|\n",
    "|-|-|-|-|\n",
    "|2|Kwadrat|1|Kwadrat|\n",
    "|1|Trójkąt|2|Trójkąt|\n",
    "|NULL|NULL|3|Romb|\n",
    "|NULL|NULL|4|Równoległobok|\n",
    "\n",
    "\n",
    "### FULL OUTER JOIN\n",
    "\n",
    "Jest złączeniem które zwraca:\n",
    "- wiersze dla których warunek złączenia jest spełniony,\n",
    "- wiersze z lewej tabeli dla których nie ma odpowiedników w prawej,\n",
    "- wiersze z prawej tabeli dla których nie ma odpowiedników w lewej. \n",
    "\n",
    "#### Przykład:\n",
    "```sql\n",
    "SELECT\n",
    "    a.id id_a,\n",
    "    a.shape shape_a,\n",
    "    b.id id_b,\n",
    "    b.shape shape_b\n",
    "FROM\n",
    "    shape_a a\n",
    "FULL JOIN shape_b b ON a.shape = b.shape;\n",
    "```\n",
    "|id_a|shape_a|id_b|shape_b|\n",
    "|-|-|-|-|\n",
    "|1|Trójkąt|2|Trójkąt|\n",
    "|2|Kwadrat|1|Kwadrat|\n",
    "|3|Deltoid\"|NULL|NULL|\n",
    "|4|Traper|NULL|NULL|\n",
    "|NULL|NULL|3|Romb|\n",
    "|NULL|NULL|4|Równoległobok|"
   ],
   "cell_type": "markdown",
   "metadata": {}
  },
  {
   "source": [
    "## Podzapytania\n",
    "\n",
    "Podzapytanie zagnieżdżone SELECT znajduje się wewnątrz zewnętrznego zapytania SELECT, np. po klauzuli WHERE, HAVING lub FROM. W przypadku tego rodzaju zapytań w pierwszej kolejności wykonywane są wewnętrzne zapytania SELECT, a ich wynik jest wykorzystywany do zewnętrznego zapytania SELECT. Stąd łatwo zuważyć, że mogą one służyć do poprawy wydajności obsługi zapytania. Należy dobierać podzapytania tak by najbardziej zagnieżdżone podzapytanie zawierało najmniejszy zbiór poszukiwań. \n",
    "\n",
    "#### Przykład:\n",
    "Jeżeli chcemy znaleźć w bazie informację o tytułach filmów zwróconych w zadanym okresie możemy wykonać następujące zapytanie:\n",
    "```sql\n",
    "SELECT\n",
    "   film_id,\n",
    "   title\n",
    "FROM\n",
    "   film\n",
    "WHERE\n",
    "   film_id IN (\n",
    "      SELECT\n",
    "         inventory.film_id\n",
    "      FROM\n",
    "         rental\n",
    "      INNER JOIN inventory ON inventory.inventory_id = rental.inventory_id\n",
    "      WHERE\n",
    "         return_date BETWEEN '2005-05-29'\n",
    "      AND '2005-05-30'\n",
    "   );\n",
    "```\n",
    "\n",
    "#### Wynik\n",
    "|film_id|title|\n",
    "|-|-|\n",
    "|307|Fellowship Autumn|\n",
    "|255|Driving Polish|\n",
    "|388|Gunfight Moon|\n",
    "|130|Celebrity Horn|\n",
    "|563|Massacre Usual|\n",
    "|397|Hanky October|\n",
    "|...|...|\n",
    "\n",
    "### Używanie podzapytań\n",
    "\n",
    "Pod zapytania mogą być używane w :\n",
    "- SELECT,\n",
    "- UPDATE,\n",
    "- DELETE,\n",
    "- Funkcjach agregujących,\n",
    "- Do definiowania tabel tymczasowych.\n",
    "\n",
    "Używając podzapytań zapytania SQL szybko mogą stać się mało czytelne. Przez co będą trudne w zrozumieniu i późniejszym utrzymaniu. W celu analizy zapytań można użyć klauzuli __EXPLAIN__, która przeanalizuje zapytanie. Klauzula ta może służyć również do porównywania wydajności zapytań\n",
    "\n",
    "#### Przykład:\n",
    "```sql\n",
    "EXPLAIN SELECT\n",
    "   *\n",
    "FROM\n",
    "   film\n",
    "```"
   ],
   "cell_type": "markdown",
   "metadata": {}
  },
  {
   "source": [
    "## Funkcje agregujące\n",
    "\n",
    "Funkcje agregujące wykonują obliczenia na zestawie wierszy i zwracają pojedynczy wiersz. PostgreSQL udostępnia wszystkie standardowe funkcje agregujące SQL w następujący sposób:\n",
    "- AVG () - zwraca średnią wartość.\n",
    "- COUNT () - zwraca liczbę wartości.\n",
    "- MAX () - zwraca maksymalną wartość.\n",
    "- MIN () - zwraca minimalną wartość.\n",
    "- SUM () - zwraca sumę wszystkich lub różnych wartości.\n",
    "\n",
    "Pełna lista funkcji agregującej: https://www.postgresql.org/docs/9.5/functions-aggregate.html\n",
    "\n",
    "Często używamy funkcji agregujących z klauzulą GROUP BY w instrukcji SELECT. W tych przypadkach klauzula GROUP BY dzieli zestaw wyników na grupy wierszy i funkcja agregująca wykonuje obliczenia dla każdej grupy, np. maksimum, minimum, średnia itp. Funkcji agregujących można używać funkcji agregujących jako wyrażeń tylko w następujących klauzulach: SELECT i HAVING.\n",
    "\n",
    "### GROUP BY\n",
    "Klauzula GROUP BY dzieli wiersze zwrócone z instrukcji SELECT na grupy. Dla  każdej grupy można zastosować funkcję agregującą, np. SUM aby obliczyć sumę pozycji lub\n",
    "COUNT aby uzyskać liczbę elementów w grupach.\n",
    "\n",
    "Poniższa instrukcja ilustruje składnię klauzuli GROUP BY:\n",
    "```sql\n",
    "SELECT \n",
    "    column_1, \n",
    "    aggregate_function(column_2)\n",
    "FROM \n",
    "    tbl_name\n",
    "GROUP BY \n",
    "    column_1;\n",
    "```\n",
    "Klauzula GROUP BY musi pojawić się zaraz po klauzuli FROM lub WHERE, n0astępnie GROUP BY zawiera listę  kolumna oddzielonych przecinkami. \n",
    "\n",
    "### HAVING\n",
    "Często używamy klauzuli HAVING w połączeniu z klauzulą GROUP BY do filtrowania wierszy grup\n",
    "które nie spełniają określonego warunku.\n",
    "\n",
    "Poniższa instrukcja ilustruje typową składnię klauzuli HAVING:\n",
    "```sql\n",
    "SELECT\n",
    "    column_1,\n",
    "    aggregate_function (column_2)\n",
    "FROM\n",
    "    tbl_name\n",
    "GROUP BY\n",
    "    column_1\n",
    "HAVING\n",
    "    condition;\n",
    "```\n",
    "Klauzula HAVING ustawia warunek dla wierszy grup utworzonych przez klauzulę GROUP BY.  \n",
    "\n",
    "Klauzula GROUP BY ma zastosowanie, podczas gdy klauzula WHERE określa wcześniej warunki dla poszczególnych wierszy."
   ],
   "cell_type": "markdown",
   "metadata": {}
  },
  {
   "source": [
    "## Zadania wprowadzające\n",
    "Wykonaj zapytania przy użyciu DBMS:  \n",
    "  \n",
    "1. Znajdź listę wszystkich filmów o tej samej długości.\n",
    "2. Znajdź wszystkich klientów mieszkających w tym samym mieście.\n",
    "3. Oblicz średni koszt wypożyczenia wszystkich filmów.\n",
    "4. Oblicz i wyświetl liczbę filmów we wszystkich kategoriach.\n",
    "5. Wyświetl liczbę wszystkich klientów pogrupowanych według kraju.\n",
    "6. Wyświetl informacje o sklepie, który ma więcej niż 100 klientów i mniej niż 300 klientów.\n",
    "7. Wybierz wszystkich klientów, którzy oglądali filmy ponad 200 godzin.\n",
    "8. Oblicz średnią wartość wypożyczenia filmu.\n",
    "9. Oblicz średnią wartość długości filmu we wszystkich kategoriach.\n",
    "10. Znajdź najdłuższe tytuły filmowe we wszystkich kategoriach.\n",
    "11. Znajdź najdłuższy film we wszystkich kategoriach. Porównaj wynik z pkt 10."
   ],
   "cell_type": "markdown",
   "metadata": {}
  },
  {
   "source": [
    "## Zadanie implementacyjne\n",
    "Zaimplementuj wszystkie funkcje w pliku main.py zgodnie z opisem a następnie przetestuj je w notatniku."
   ],
   "cell_type": "markdown",
   "metadata": {}
  },
  {
   "cell_type": "code",
   "execution_count": 28,
   "metadata": {},
   "outputs": [],
   "source": [
    "import main\n",
    "import pandas as pd\n",
    "import psycopg2 as pg\n",
    "connection = pg.connect(host='pgsql-196447.vipserv.org', port=5432, dbname='wbauer_adb', user='wbauer_adb',\n",
    "                        password='adb2020');"
   ]
  },
  {
   "cell_type": "markdown",
   "source": [
    "** **\n",
    "1. Znajdź listę wszystkich filmów o tej samej długości."
   ],
   "metadata": {
    "collapsed": false
   }
  },
  {
   "cell_type": "code",
   "execution_count": 17,
   "outputs": [
    {
     "name": "stderr",
     "output_type": "stream",
     "text": [
      "C:\\Users\\SEBAST~1\\AppData\\Local\\Temp/ipykernel_15260/2115749182.py:1: UserWarning: pandas only supports SQLAlchemy connectable (engine/connection) or database string URI or sqlite3 DBAPI2 connection. Other DBAPI2 objects are not tested. Please consider using SQLAlchemy.\n",
      "  film_list = pd.read_sql('''select\n"
     ]
    },
    {
     "data": {
      "text/plain": "                 title  length                   title  length\n0      Chamber Italian     117  Resurrection Silverado     117\n1      Chamber Italian     117          Magic Mallrats     117\n2      Chamber Italian     117           Graffiti Love     117\n3      Chamber Italian     117        Affair Prejudice     117\n4     Grosse Wonderful      49        Hurricane Affair      49\n...                ...     ...                     ...     ...\n6967         Zorro Ark      50             Muppet Mile      50\n6968         Zorro Ark      50              Lion Uncut      50\n6969         Zorro Ark      50        Crossing Divorce      50\n6970         Zorro Ark      50          Blues Instinct      50\n6971         Zorro Ark      50        Adaptation Holes      50\n\n[6972 rows x 4 columns]",
      "text/html": "<div>\n<style scoped>\n    .dataframe tbody tr th:only-of-type {\n        vertical-align: middle;\n    }\n\n    .dataframe tbody tr th {\n        vertical-align: top;\n    }\n\n    .dataframe thead th {\n        text-align: right;\n    }\n</style>\n<table border=\"1\" class=\"dataframe\">\n  <thead>\n    <tr style=\"text-align: right;\">\n      <th></th>\n      <th>title</th>\n      <th>length</th>\n      <th>title</th>\n      <th>length</th>\n    </tr>\n  </thead>\n  <tbody>\n    <tr>\n      <th>0</th>\n      <td>Chamber Italian</td>\n      <td>117</td>\n      <td>Resurrection Silverado</td>\n      <td>117</td>\n    </tr>\n    <tr>\n      <th>1</th>\n      <td>Chamber Italian</td>\n      <td>117</td>\n      <td>Magic Mallrats</td>\n      <td>117</td>\n    </tr>\n    <tr>\n      <th>2</th>\n      <td>Chamber Italian</td>\n      <td>117</td>\n      <td>Graffiti Love</td>\n      <td>117</td>\n    </tr>\n    <tr>\n      <th>3</th>\n      <td>Chamber Italian</td>\n      <td>117</td>\n      <td>Affair Prejudice</td>\n      <td>117</td>\n    </tr>\n    <tr>\n      <th>4</th>\n      <td>Grosse Wonderful</td>\n      <td>49</td>\n      <td>Hurricane Affair</td>\n      <td>49</td>\n    </tr>\n    <tr>\n      <th>...</th>\n      <td>...</td>\n      <td>...</td>\n      <td>...</td>\n      <td>...</td>\n    </tr>\n    <tr>\n      <th>6967</th>\n      <td>Zorro Ark</td>\n      <td>50</td>\n      <td>Muppet Mile</td>\n      <td>50</td>\n    </tr>\n    <tr>\n      <th>6968</th>\n      <td>Zorro Ark</td>\n      <td>50</td>\n      <td>Lion Uncut</td>\n      <td>50</td>\n    </tr>\n    <tr>\n      <th>6969</th>\n      <td>Zorro Ark</td>\n      <td>50</td>\n      <td>Crossing Divorce</td>\n      <td>50</td>\n    </tr>\n    <tr>\n      <th>6970</th>\n      <td>Zorro Ark</td>\n      <td>50</td>\n      <td>Blues Instinct</td>\n      <td>50</td>\n    </tr>\n    <tr>\n      <th>6971</th>\n      <td>Zorro Ark</td>\n      <td>50</td>\n      <td>Adaptation Holes</td>\n      <td>50</td>\n    </tr>\n  </tbody>\n</table>\n<p>6972 rows × 4 columns</p>\n</div>"
     },
     "execution_count": 17,
     "metadata": {},
     "output_type": "execute_result"
    }
   ],
   "source": [
    "film_list = pd.read_sql('''select\n",
    "                            f.title , f.length,\n",
    "                            f2.title, f2.length\n",
    "                            from film f\n",
    "                            INNER JOIN film f2 using(length)\n",
    "                            where f.title != f2.title\n",
    "\n",
    "                            ''' ,con = connection)\n",
    "film_list"
   ],
   "metadata": {
    "collapsed": false,
    "pycharm": {
     "name": "#%%\n"
    }
   }
  },
  {
   "cell_type": "markdown",
   "source": [
    "** **\n",
    "2.Znajdź wszystkich klientów mieszkających w tym samym mieście."
   ],
   "metadata": {
    "collapsed": false
   }
  },
  {
   "cell_type": "code",
   "execution_count": 18,
   "outputs": [
    {
     "name": "stderr",
     "output_type": "stream",
     "text": [
      "C:\\Users\\SEBAST~1\\AppData\\Local\\Temp/ipykernel_15260/623510546.py:1: UserWarning: pandas only supports SQLAlchemy connectable (engine/connection) or database string URI or sqlite3 DBAPI2 connection. Other DBAPI2 objects are not tested. Please consider using SQLAlchemy.\n",
      "  cust_list = pd.read_sql('''select\n"
     ]
    },
    {
     "data": {
      "text/plain": "  first_name last_name first_name last_name    city\n0      Scott   Shelley    Clinton    Buford  Aurora\n1    Clinton    Buford      Scott   Shelley  Aurora\n2      Cecil     Vines     Mattie   Hoffman  London\n3     Mattie   Hoffman      Cecil     Vines  London",
      "text/html": "<div>\n<style scoped>\n    .dataframe tbody tr th:only-of-type {\n        vertical-align: middle;\n    }\n\n    .dataframe tbody tr th {\n        vertical-align: top;\n    }\n\n    .dataframe thead th {\n        text-align: right;\n    }\n</style>\n<table border=\"1\" class=\"dataframe\">\n  <thead>\n    <tr style=\"text-align: right;\">\n      <th></th>\n      <th>first_name</th>\n      <th>last_name</th>\n      <th>first_name</th>\n      <th>last_name</th>\n      <th>city</th>\n    </tr>\n  </thead>\n  <tbody>\n    <tr>\n      <th>0</th>\n      <td>Scott</td>\n      <td>Shelley</td>\n      <td>Clinton</td>\n      <td>Buford</td>\n      <td>Aurora</td>\n    </tr>\n    <tr>\n      <th>1</th>\n      <td>Clinton</td>\n      <td>Buford</td>\n      <td>Scott</td>\n      <td>Shelley</td>\n      <td>Aurora</td>\n    </tr>\n    <tr>\n      <th>2</th>\n      <td>Cecil</td>\n      <td>Vines</td>\n      <td>Mattie</td>\n      <td>Hoffman</td>\n      <td>London</td>\n    </tr>\n    <tr>\n      <th>3</th>\n      <td>Mattie</td>\n      <td>Hoffman</td>\n      <td>Cecil</td>\n      <td>Vines</td>\n      <td>London</td>\n    </tr>\n  </tbody>\n</table>\n</div>"
     },
     "execution_count": 18,
     "metadata": {},
     "output_type": "execute_result"
    }
   ],
   "source": [
    "cust_list = pd.read_sql('''select\n",
    "                            c.first_name, c.last_name,\n",
    "                            c2.first_name, c2.last_name,\n",
    "                            ci.city\n",
    "                            from customer c\n",
    "                            INNER JOIN address a using(address_id)\n",
    "                            INNER JOIN city ci using(city_id)\n",
    "                            INNER JOIN customer c2 on\n",
    "                            (select address.city_id from address where address.address_id = c.address_id) =\n",
    "                            (select address.city_id from address where address.address_id = c2.address_id)\n",
    "                            where c.address_id != c2.address_id\n",
    "                            ''' ,con = connection)\n",
    "cust_list"
   ],
   "metadata": {
    "collapsed": false,
    "pycharm": {
     "name": "#%%\n"
    }
   }
  },
  {
   "cell_type": "markdown",
   "source": [
    "** **\n",
    "3.Oblicz średni koszt wypożyczenia wszystkich filmów"
   ],
   "metadata": {
    "collapsed": false
   }
  },
  {
   "cell_type": "code",
   "execution_count": 19,
   "outputs": [
    {
     "name": "stderr",
     "output_type": "stream",
     "text": [
      "C:\\Users\\SEBAST~1\\AppData\\Local\\Temp/ipykernel_15260/2949189287.py:1: UserWarning: pandas only supports SQLAlchemy connectable (engine/connection) or database string URI or sqlite3 DBAPI2 connection. Other DBAPI2 objects are not tested. Please consider using SQLAlchemy.\n",
      "  avg_all = pd.read_sql(''' select\n"
     ]
    },
    {
     "data": {
      "text/plain": "        avg\n0  4.200606",
      "text/html": "<div>\n<style scoped>\n    .dataframe tbody tr th:only-of-type {\n        vertical-align: middle;\n    }\n\n    .dataframe tbody tr th {\n        vertical-align: top;\n    }\n\n    .dataframe thead th {\n        text-align: right;\n    }\n</style>\n<table border=\"1\" class=\"dataframe\">\n  <thead>\n    <tr style=\"text-align: right;\">\n      <th></th>\n      <th>avg</th>\n    </tr>\n  </thead>\n  <tbody>\n    <tr>\n      <th>0</th>\n      <td>4.200606</td>\n    </tr>\n  </tbody>\n</table>\n</div>"
     },
     "execution_count": 19,
     "metadata": {},
     "output_type": "execute_result"
    }
   ],
   "source": [
    "avg_all = pd.read_sql(''' select\n",
    "                      AVG(p.amount)\n",
    "                      from film f\n",
    "                      INNER JOIN inventory i using(film_id)\n",
    "                      INNER JOIN rental r using(inventory_id)\n",
    "                      INNER JOIN payment p using(rental_id)\n",
    "                      ''',con = connection)\n",
    "avg_all"
   ],
   "metadata": {
    "collapsed": false,
    "pycharm": {
     "name": "#%%\n"
    }
   }
  },
  {
   "cell_type": "markdown",
   "source": [
    "** **\n",
    "4.Oblicz i wyświetl liczbę filmów we wszystkich kategoriach."
   ],
   "metadata": {
    "collapsed": false
   }
  },
  {
   "cell_type": "code",
   "execution_count": 20,
   "outputs": [
    {
     "name": "stderr",
     "output_type": "stream",
     "text": [
      "C:\\Users\\SEBAST~1\\AppData\\Local\\Temp/ipykernel_15260/4077863986.py:1: UserWarning: pandas only supports SQLAlchemy connectable (engine/connection) or database string URI or sqlite3 DBAPI2 connection. Other DBAPI2 objects are not tested. Please consider using SQLAlchemy.\n",
      "  pd.read_sql(''' select\n"
     ]
    },
    {
     "data": {
      "text/plain": "           name  count\n0        Sports     74\n1      Classics     57\n2           New     63\n3        Family     69\n4        Comedy     58\n5     Animation     66\n6        Travel     57\n7         Music     51\n8         Drama     62\n9        Horror     56\n10       Sci-Fi     61\n11        Games     61\n12  Documentary     68\n13      Foreign     73\n14       Action     64\n15     Children     60",
      "text/html": "<div>\n<style scoped>\n    .dataframe tbody tr th:only-of-type {\n        vertical-align: middle;\n    }\n\n    .dataframe tbody tr th {\n        vertical-align: top;\n    }\n\n    .dataframe thead th {\n        text-align: right;\n    }\n</style>\n<table border=\"1\" class=\"dataframe\">\n  <thead>\n    <tr style=\"text-align: right;\">\n      <th></th>\n      <th>name</th>\n      <th>count</th>\n    </tr>\n  </thead>\n  <tbody>\n    <tr>\n      <th>0</th>\n      <td>Sports</td>\n      <td>74</td>\n    </tr>\n    <tr>\n      <th>1</th>\n      <td>Classics</td>\n      <td>57</td>\n    </tr>\n    <tr>\n      <th>2</th>\n      <td>New</td>\n      <td>63</td>\n    </tr>\n    <tr>\n      <th>3</th>\n      <td>Family</td>\n      <td>69</td>\n    </tr>\n    <tr>\n      <th>4</th>\n      <td>Comedy</td>\n      <td>58</td>\n    </tr>\n    <tr>\n      <th>5</th>\n      <td>Animation</td>\n      <td>66</td>\n    </tr>\n    <tr>\n      <th>6</th>\n      <td>Travel</td>\n      <td>57</td>\n    </tr>\n    <tr>\n      <th>7</th>\n      <td>Music</td>\n      <td>51</td>\n    </tr>\n    <tr>\n      <th>8</th>\n      <td>Drama</td>\n      <td>62</td>\n    </tr>\n    <tr>\n      <th>9</th>\n      <td>Horror</td>\n      <td>56</td>\n    </tr>\n    <tr>\n      <th>10</th>\n      <td>Sci-Fi</td>\n      <td>61</td>\n    </tr>\n    <tr>\n      <th>11</th>\n      <td>Games</td>\n      <td>61</td>\n    </tr>\n    <tr>\n      <th>12</th>\n      <td>Documentary</td>\n      <td>68</td>\n    </tr>\n    <tr>\n      <th>13</th>\n      <td>Foreign</td>\n      <td>73</td>\n    </tr>\n    <tr>\n      <th>14</th>\n      <td>Action</td>\n      <td>64</td>\n    </tr>\n    <tr>\n      <th>15</th>\n      <td>Children</td>\n      <td>60</td>\n    </tr>\n  </tbody>\n</table>\n</div>"
     },
     "execution_count": 20,
     "metadata": {},
     "output_type": "execute_result"
    }
   ],
   "source": [
    "pd.read_sql(''' select\n",
    "            cat.name , COUNT(f.film_id)\n",
    "            from film f\n",
    "            INNER JOIN film_category fcat using(film_id)\n",
    "            INNER JOIN category cat using(category_id)\n",
    "            GROUP BY cat.name\n",
    "            ''',con=connection)"
   ],
   "metadata": {
    "collapsed": false,
    "pycharm": {
     "name": "#%%\n"
    }
   }
  },
  {
   "cell_type": "markdown",
   "source": [
    "** **\n",
    "5.Wyświetl liczbę wszystkich klientów pogrupowanych według kraju."
   ],
   "metadata": {
    "collapsed": false
   }
  },
  {
   "cell_type": "code",
   "execution_count": 21,
   "outputs": [
    {
     "name": "stderr",
     "output_type": "stream",
     "text": [
      "C:\\Users\\SEBAST~1\\AppData\\Local\\Temp/ipykernel_15260/3372613487.py:1: UserWarning: pandas only supports SQLAlchemy connectable (engine/connection) or database string URI or sqlite3 DBAPI2 connection. Other DBAPI2 objects are not tested. Please consider using SQLAlchemy.\n",
      "  pd.read_sql(''' select\n"
     ]
    },
    {
     "data": {
      "text/plain": "            country first_name   last_name\n0       Afghanistan       Vera       Mccoy\n1           Algeria       Judy        Gray\n2           Algeria      Mario    Cheatham\n3           Algeria       June     Carroll\n4    American Samoa    Anthony      Schwab\n..              ...        ...         ...\n594           Yemen       Ella      Oliver\n595           Yemen       Gina  Williamson\n596      Yugoslavia      Maria      Miller\n597      Yugoslavia        Max        Pitt\n598          Zambia      Barry    Lovelace\n\n[599 rows x 3 columns]",
      "text/html": "<div>\n<style scoped>\n    .dataframe tbody tr th:only-of-type {\n        vertical-align: middle;\n    }\n\n    .dataframe tbody tr th {\n        vertical-align: top;\n    }\n\n    .dataframe thead th {\n        text-align: right;\n    }\n</style>\n<table border=\"1\" class=\"dataframe\">\n  <thead>\n    <tr style=\"text-align: right;\">\n      <th></th>\n      <th>country</th>\n      <th>first_name</th>\n      <th>last_name</th>\n    </tr>\n  </thead>\n  <tbody>\n    <tr>\n      <th>0</th>\n      <td>Afghanistan</td>\n      <td>Vera</td>\n      <td>Mccoy</td>\n    </tr>\n    <tr>\n      <th>1</th>\n      <td>Algeria</td>\n      <td>Judy</td>\n      <td>Gray</td>\n    </tr>\n    <tr>\n      <th>2</th>\n      <td>Algeria</td>\n      <td>Mario</td>\n      <td>Cheatham</td>\n    </tr>\n    <tr>\n      <th>3</th>\n      <td>Algeria</td>\n      <td>June</td>\n      <td>Carroll</td>\n    </tr>\n    <tr>\n      <th>4</th>\n      <td>American Samoa</td>\n      <td>Anthony</td>\n      <td>Schwab</td>\n    </tr>\n    <tr>\n      <th>...</th>\n      <td>...</td>\n      <td>...</td>\n      <td>...</td>\n    </tr>\n    <tr>\n      <th>594</th>\n      <td>Yemen</td>\n      <td>Ella</td>\n      <td>Oliver</td>\n    </tr>\n    <tr>\n      <th>595</th>\n      <td>Yemen</td>\n      <td>Gina</td>\n      <td>Williamson</td>\n    </tr>\n    <tr>\n      <th>596</th>\n      <td>Yugoslavia</td>\n      <td>Maria</td>\n      <td>Miller</td>\n    </tr>\n    <tr>\n      <th>597</th>\n      <td>Yugoslavia</td>\n      <td>Max</td>\n      <td>Pitt</td>\n    </tr>\n    <tr>\n      <th>598</th>\n      <td>Zambia</td>\n      <td>Barry</td>\n      <td>Lovelace</td>\n    </tr>\n  </tbody>\n</table>\n<p>599 rows × 3 columns</p>\n</div>"
     },
     "execution_count": 21,
     "metadata": {},
     "output_type": "execute_result"
    }
   ],
   "source": [
    "pd.read_sql(''' select\n",
    "            cou.country , cas.first_name, cas.last_name\n",
    "            from customer cas\n",
    "            INNER JOIN address a using(address_id)\n",
    "            INNER JOIN city ci using(city_id)\n",
    "            INNER JOIN country cou using(country_id)\n",
    "            ORDER BY cou.country ASC\n",
    "            ''',con=connection)"
   ],
   "metadata": {
    "collapsed": false,
    "pycharm": {
     "name": "#%%\n"
    }
   }
  },
  {
   "cell_type": "markdown",
   "source": [
    "** **\n",
    "6.Wyświetl informacje o sklepie, który ma więcej niż 100 klientów i mniej niż 300 klientów"
   ],
   "metadata": {
    "collapsed": false
   }
  },
  {
   "cell_type": "code",
   "execution_count": 22,
   "outputs": [
    {
     "name": "stderr",
     "output_type": "stream",
     "text": [
      "C:\\Users\\SEBAST~1\\AppData\\Local\\Temp/ipykernel_15260/179793543.py:1: UserWarning: pandas only supports SQLAlchemy connectable (engine/connection) or database string URI or sqlite3 DBAPI2 connection. Other DBAPI2 objects are not tested. Please consider using SQLAlchemy.\n",
      "  pd.read_sql(''' select\n"
     ]
    },
    {
     "data": {
      "text/plain": "Empty DataFrame\nColumns: [store_id, address, city, count]\nIndex: []",
      "text/html": "<div>\n<style scoped>\n    .dataframe tbody tr th:only-of-type {\n        vertical-align: middle;\n    }\n\n    .dataframe tbody tr th {\n        vertical-align: top;\n    }\n\n    .dataframe thead th {\n        text-align: right;\n    }\n</style>\n<table border=\"1\" class=\"dataframe\">\n  <thead>\n    <tr style=\"text-align: right;\">\n      <th></th>\n      <th>store_id</th>\n      <th>address</th>\n      <th>city</th>\n      <th>count</th>\n    </tr>\n  </thead>\n  <tbody>\n  </tbody>\n</table>\n</div>"
     },
     "execution_count": 22,
     "metadata": {},
     "output_type": "execute_result"
    }
   ],
   "source": [
    "pd.read_sql(''' select\n",
    "            st.store_id , a.address , ci.city  ,COUNT(c.customer_id)\n",
    "            from store st\n",
    "            INNER JOIN staff sf using(store_id)\n",
    "            INNER JOIN rental r using(staff_id)\n",
    "            INNER JOIN customer c using(customer_id)\n",
    "            INNER JOIN address a on a.address_id = st.address_id\n",
    "            INNER JOIN city ci using(city_id)\n",
    "            GROUP BY st.store_id, a.address, ci.city\n",
    "            HAVING COUNT(c.customer_id) BETWEEN 100 AND 300\n",
    "            ''',con=connection)"
   ],
   "metadata": {
    "collapsed": false,
    "pycharm": {
     "name": "#%%\n"
    }
   }
  },
  {
   "cell_type": "markdown",
   "source": [
    "** **\n",
    "7.Wybierz wszystkich klientów, którzy oglądali filmy ponad 200 godzin."
   ],
   "metadata": {
    "collapsed": false
   }
  },
  {
   "cell_type": "code",
   "execution_count": 23,
   "outputs": [
    {
     "name": "stderr",
     "output_type": "stream",
     "text": [
      "C:\\Users\\SEBAST~1\\AppData\\Local\\Temp/ipykernel_15260/1899564983.py:1: UserWarning: pandas only supports SQLAlchemy connectable (engine/connection) or database string URI or sqlite3 DBAPI2 connection. Other DBAPI2 objects are not tested. Please consider using SQLAlchemy.\n",
      "  pd.read_sql(''' select\n"
     ]
    },
    {
     "data": {
      "text/plain": "Empty DataFrame\nColumns: [customer_id, first_name, last_name, sum]\nIndex: []",
      "text/html": "<div>\n<style scoped>\n    .dataframe tbody tr th:only-of-type {\n        vertical-align: middle;\n    }\n\n    .dataframe tbody tr th {\n        vertical-align: top;\n    }\n\n    .dataframe thead th {\n        text-align: right;\n    }\n</style>\n<table border=\"1\" class=\"dataframe\">\n  <thead>\n    <tr style=\"text-align: right;\">\n      <th></th>\n      <th>customer_id</th>\n      <th>first_name</th>\n      <th>last_name</th>\n      <th>sum</th>\n    </tr>\n  </thead>\n  <tbody>\n  </tbody>\n</table>\n</div>"
     },
     "execution_count": 23,
     "metadata": {},
     "output_type": "execute_result"
    }
   ],
   "source": [
    "pd.read_sql(''' select\n",
    "            c.customer_id , c.first_name, c.last_name , SUM(f.length)\n",
    "            from customer c\n",
    "            INNER JOIN rental r using(customer_id)\n",
    "            INNER JOIN inventory i using(inventory_id)\n",
    "            INNER JOIN film f using(film_id)\n",
    "            GROUP BY c.customer_id , c.first_name, c.last_name\n",
    "            HAVING SUM(f.length) > 200*60\n",
    "            ''',con=connection)"
   ],
   "metadata": {
    "collapsed": false,
    "pycharm": {
     "name": "#%%\n"
    }
   }
  },
  {
   "cell_type": "markdown",
   "source": [
    "** **\n",
    "8.Oblicz średnią wartość wypożyczenia filmu."
   ],
   "metadata": {
    "collapsed": false
   }
  },
  {
   "cell_type": "code",
   "execution_count": 26,
   "outputs": [
    {
     "name": "stderr",
     "output_type": "stream",
     "text": [
      "C:\\Users\\SEBAST~1\\AppData\\Local\\Temp/ipykernel_15260/1002897191.py:1: UserWarning: pandas only supports SQLAlchemy connectable (engine/connection) or database string URI or sqlite3 DBAPI2 connection. Other DBAPI2 objects are not tested. Please consider using SQLAlchemy.\n",
      "  pd.read_sql(''' select\n"
     ]
    },
    {
     "data": {
      "text/plain": "                     title       avg\n0       Graceland Dynamite  6.323333\n1                 Opus Ice  6.090000\n2         Braveheart Human  3.390000\n3           Wonderful Drop  5.865000\n4          Rush Goodfellas  2.918571\n..                     ...       ...\n953  Mockingbird Hollywood  2.444545\n954     Gathering Calendar  1.990000\n955         Drums Dynamite  1.913077\n956           Samurai Lion  4.240000\n957           Pond Seattle  3.434444\n\n[958 rows x 2 columns]",
      "text/html": "<div>\n<style scoped>\n    .dataframe tbody tr th:only-of-type {\n        vertical-align: middle;\n    }\n\n    .dataframe tbody tr th {\n        vertical-align: top;\n    }\n\n    .dataframe thead th {\n        text-align: right;\n    }\n</style>\n<table border=\"1\" class=\"dataframe\">\n  <thead>\n    <tr style=\"text-align: right;\">\n      <th></th>\n      <th>title</th>\n      <th>avg</th>\n    </tr>\n  </thead>\n  <tbody>\n    <tr>\n      <th>0</th>\n      <td>Graceland Dynamite</td>\n      <td>6.323333</td>\n    </tr>\n    <tr>\n      <th>1</th>\n      <td>Opus Ice</td>\n      <td>6.090000</td>\n    </tr>\n    <tr>\n      <th>2</th>\n      <td>Braveheart Human</td>\n      <td>3.390000</td>\n    </tr>\n    <tr>\n      <th>3</th>\n      <td>Wonderful Drop</td>\n      <td>5.865000</td>\n    </tr>\n    <tr>\n      <th>4</th>\n      <td>Rush Goodfellas</td>\n      <td>2.918571</td>\n    </tr>\n    <tr>\n      <th>...</th>\n      <td>...</td>\n      <td>...</td>\n    </tr>\n    <tr>\n      <th>953</th>\n      <td>Mockingbird Hollywood</td>\n      <td>2.444545</td>\n    </tr>\n    <tr>\n      <th>954</th>\n      <td>Gathering Calendar</td>\n      <td>1.990000</td>\n    </tr>\n    <tr>\n      <th>955</th>\n      <td>Drums Dynamite</td>\n      <td>1.913077</td>\n    </tr>\n    <tr>\n      <th>956</th>\n      <td>Samurai Lion</td>\n      <td>4.240000</td>\n    </tr>\n    <tr>\n      <th>957</th>\n      <td>Pond Seattle</td>\n      <td>3.434444</td>\n    </tr>\n  </tbody>\n</table>\n<p>958 rows × 2 columns</p>\n</div>"
     },
     "execution_count": 26,
     "metadata": {},
     "output_type": "execute_result"
    }
   ],
   "source": [
    "pd.read_sql(''' select\n",
    "            f.title ,  AVG(p.amount)\n",
    "            from film f\n",
    "            INNER JOIN inventory i using(film_id)\n",
    "            INNER JOIN rental r using(inventory_id)\n",
    "            INNER JOIN payment p using(rental_id)\n",
    "            GROUP BY f.title\n",
    "            ''',con = connection)"
   ],
   "metadata": {
    "collapsed": false,
    "pycharm": {
     "name": "#%%\n"
    }
   }
  },
  {
   "cell_type": "markdown",
   "source": [
    "** **\n",
    "9.Oblicz średnią wartość długości filmu we wszystkich kategoriach."
   ],
   "metadata": {
    "collapsed": false
   }
  },
  {
   "cell_type": "code",
   "execution_count": 32,
   "outputs": [
    {
     "name": "stderr",
     "output_type": "stream",
     "text": [
      "C:\\Users\\SEBAST~1\\AppData\\Local\\Temp/ipykernel_15260/2894006868.py:1: UserWarning: pandas only supports SQLAlchemy connectable (engine/connection) or database string URI or sqlite3 DBAPI2 connection. Other DBAPI2 objects are not tested. Please consider using SQLAlchemy.\n",
      "  pd.read_sql(''' select\n"
     ]
    },
    {
     "data": {
      "text/plain": "           name         avg\n0        Sports  128.202703\n1      Classics  111.666667\n2           New  111.126984\n3        Family  114.782609\n4        Comedy  115.827586\n5     Animation  111.015152\n6        Travel  113.315789\n7         Music  113.647059\n8         Drama  120.838710\n9        Horror  112.482143\n10       Sci-Fi  108.196721\n11        Games  127.836066\n12  Documentary  108.750000\n13      Foreign  121.698630\n14       Action  111.609375\n15     Children  109.800000",
      "text/html": "<div>\n<style scoped>\n    .dataframe tbody tr th:only-of-type {\n        vertical-align: middle;\n    }\n\n    .dataframe tbody tr th {\n        vertical-align: top;\n    }\n\n    .dataframe thead th {\n        text-align: right;\n    }\n</style>\n<table border=\"1\" class=\"dataframe\">\n  <thead>\n    <tr style=\"text-align: right;\">\n      <th></th>\n      <th>name</th>\n      <th>avg</th>\n    </tr>\n  </thead>\n  <tbody>\n    <tr>\n      <th>0</th>\n      <td>Sports</td>\n      <td>128.202703</td>\n    </tr>\n    <tr>\n      <th>1</th>\n      <td>Classics</td>\n      <td>111.666667</td>\n    </tr>\n    <tr>\n      <th>2</th>\n      <td>New</td>\n      <td>111.126984</td>\n    </tr>\n    <tr>\n      <th>3</th>\n      <td>Family</td>\n      <td>114.782609</td>\n    </tr>\n    <tr>\n      <th>4</th>\n      <td>Comedy</td>\n      <td>115.827586</td>\n    </tr>\n    <tr>\n      <th>5</th>\n      <td>Animation</td>\n      <td>111.015152</td>\n    </tr>\n    <tr>\n      <th>6</th>\n      <td>Travel</td>\n      <td>113.315789</td>\n    </tr>\n    <tr>\n      <th>7</th>\n      <td>Music</td>\n      <td>113.647059</td>\n    </tr>\n    <tr>\n      <th>8</th>\n      <td>Drama</td>\n      <td>120.838710</td>\n    </tr>\n    <tr>\n      <th>9</th>\n      <td>Horror</td>\n      <td>112.482143</td>\n    </tr>\n    <tr>\n      <th>10</th>\n      <td>Sci-Fi</td>\n      <td>108.196721</td>\n    </tr>\n    <tr>\n      <th>11</th>\n      <td>Games</td>\n      <td>127.836066</td>\n    </tr>\n    <tr>\n      <th>12</th>\n      <td>Documentary</td>\n      <td>108.750000</td>\n    </tr>\n    <tr>\n      <th>13</th>\n      <td>Foreign</td>\n      <td>121.698630</td>\n    </tr>\n    <tr>\n      <th>14</th>\n      <td>Action</td>\n      <td>111.609375</td>\n    </tr>\n    <tr>\n      <th>15</th>\n      <td>Children</td>\n      <td>109.800000</td>\n    </tr>\n  </tbody>\n</table>\n</div>"
     },
     "execution_count": 32,
     "metadata": {},
     "output_type": "execute_result"
    }
   ],
   "source": [
    "pd.read_sql(''' select\n",
    "            cat.name , AVG(f.length)\n",
    "            from film f\n",
    "            INNER JOIN film_category fcat using(film_id)\n",
    "            INNER JOIN category cat using(category_id)\n",
    "            GROUP BY cat.name\n",
    "\n",
    "            ''',con=connection)"
   ],
   "metadata": {
    "collapsed": false,
    "pycharm": {
     "name": "#%%\n"
    }
   }
  },
  {
   "cell_type": "markdown",
   "source": [
    "** **\n",
    "10.Znajdź najdłuższe tytuły filmowe we wszystkich kategoriach."
   ],
   "metadata": {
    "collapsed": false
   }
  },
  {
   "cell_type": "code",
   "execution_count": 83,
   "outputs": [
    {
     "name": "stderr",
     "output_type": "stream",
     "text": [
      "C:\\Users\\SEBAST~1\\AppData\\Local\\Temp/ipykernel_15260/3757433134.py:1: UserWarning: pandas only supports SQLAlchemy connectable (engine/connection) or database string URI or sqlite3 DBAPI2 connection. Other DBAPI2 objects are not tested. Please consider using SQLAlchemy.\n",
      "  pd.read_sql(''' select\n"
     ]
    },
    {
     "data": {
      "text/plain": "           name  max\n0        Sports   25\n1      Classics   23\n2           New   21\n3        Family   22\n4        Comedy   23\n5     Animation   22\n6        Travel   23\n7         Music   22\n8         Drama   22\n9        Horror   27\n10       Sci-Fi   20\n11        Games   21\n12  Documentary   22\n13      Foreign   20\n14       Action   23\n15     Children   20",
      "text/html": "<div>\n<style scoped>\n    .dataframe tbody tr th:only-of-type {\n        vertical-align: middle;\n    }\n\n    .dataframe tbody tr th {\n        vertical-align: top;\n    }\n\n    .dataframe thead th {\n        text-align: right;\n    }\n</style>\n<table border=\"1\" class=\"dataframe\">\n  <thead>\n    <tr style=\"text-align: right;\">\n      <th></th>\n      <th>name</th>\n      <th>max</th>\n    </tr>\n  </thead>\n  <tbody>\n    <tr>\n      <th>0</th>\n      <td>Sports</td>\n      <td>25</td>\n    </tr>\n    <tr>\n      <th>1</th>\n      <td>Classics</td>\n      <td>23</td>\n    </tr>\n    <tr>\n      <th>2</th>\n      <td>New</td>\n      <td>21</td>\n    </tr>\n    <tr>\n      <th>3</th>\n      <td>Family</td>\n      <td>22</td>\n    </tr>\n    <tr>\n      <th>4</th>\n      <td>Comedy</td>\n      <td>23</td>\n    </tr>\n    <tr>\n      <th>5</th>\n      <td>Animation</td>\n      <td>22</td>\n    </tr>\n    <tr>\n      <th>6</th>\n      <td>Travel</td>\n      <td>23</td>\n    </tr>\n    <tr>\n      <th>7</th>\n      <td>Music</td>\n      <td>22</td>\n    </tr>\n    <tr>\n      <th>8</th>\n      <td>Drama</td>\n      <td>22</td>\n    </tr>\n    <tr>\n      <th>9</th>\n      <td>Horror</td>\n      <td>27</td>\n    </tr>\n    <tr>\n      <th>10</th>\n      <td>Sci-Fi</td>\n      <td>20</td>\n    </tr>\n    <tr>\n      <th>11</th>\n      <td>Games</td>\n      <td>21</td>\n    </tr>\n    <tr>\n      <th>12</th>\n      <td>Documentary</td>\n      <td>22</td>\n    </tr>\n    <tr>\n      <th>13</th>\n      <td>Foreign</td>\n      <td>20</td>\n    </tr>\n    <tr>\n      <th>14</th>\n      <td>Action</td>\n      <td>23</td>\n    </tr>\n    <tr>\n      <th>15</th>\n      <td>Children</td>\n      <td>20</td>\n    </tr>\n  </tbody>\n</table>\n</div>"
     },
     "execution_count": 83,
     "metadata": {},
     "output_type": "execute_result"
    }
   ],
   "source": [
    "pd.read_sql(''' select\n",
    "            cat.name , MAX(LENGTH(f.title))\n",
    "            from category cat\n",
    "            INNER JOIN film_category fcat using(category_id)\n",
    "            INNER JOIN film f using(film_id)\n",
    "            GROUP BY cat.name\n",
    "\n",
    "            ''',con=connection)"
   ],
   "metadata": {
    "collapsed": false,
    "pycharm": {
     "name": "#%%\n"
    }
   }
  },
  {
   "cell_type": "markdown",
   "source": [
    "** **\n",
    "11.Znajdź najdłuższy film we wszystkich kategoriach. Porównaj wynik z pkt 10."
   ],
   "metadata": {
    "collapsed": false
   }
  },
  {
   "cell_type": "code",
   "execution_count": 79,
   "outputs": [
    {
     "name": "stderr",
     "output_type": "stream",
     "text": [
      "C:\\Users\\SEBAST~1\\AppData\\Local\\Temp/ipykernel_15260/440265915.py:1: UserWarning: pandas only supports SQLAlchemy connectable (engine/connection) or database string URI or sqlite3 DBAPI2 connection. Other DBAPI2 objects are not tested. Please consider using SQLAlchemy.\n",
      "  pd.read_sql(''' select cat.name, MAX(f.length)\n"
     ]
    },
    {
     "data": {
      "text/plain": "           name  max\n0        Sports  184\n1      Classics  184\n2           New  183\n3        Family  184\n4        Comedy  185\n5     Animation  185\n6        Travel  185\n7         Music  185\n8         Drama  181\n9        Horror  181\n10       Sci-Fi  185\n11        Games  185\n12  Documentary  183\n13      Foreign  184\n14       Action  185\n15     Children  178",
      "text/html": "<div>\n<style scoped>\n    .dataframe tbody tr th:only-of-type {\n        vertical-align: middle;\n    }\n\n    .dataframe tbody tr th {\n        vertical-align: top;\n    }\n\n    .dataframe thead th {\n        text-align: right;\n    }\n</style>\n<table border=\"1\" class=\"dataframe\">\n  <thead>\n    <tr style=\"text-align: right;\">\n      <th></th>\n      <th>name</th>\n      <th>max</th>\n    </tr>\n  </thead>\n  <tbody>\n    <tr>\n      <th>0</th>\n      <td>Sports</td>\n      <td>184</td>\n    </tr>\n    <tr>\n      <th>1</th>\n      <td>Classics</td>\n      <td>184</td>\n    </tr>\n    <tr>\n      <th>2</th>\n      <td>New</td>\n      <td>183</td>\n    </tr>\n    <tr>\n      <th>3</th>\n      <td>Family</td>\n      <td>184</td>\n    </tr>\n    <tr>\n      <th>4</th>\n      <td>Comedy</td>\n      <td>185</td>\n    </tr>\n    <tr>\n      <th>5</th>\n      <td>Animation</td>\n      <td>185</td>\n    </tr>\n    <tr>\n      <th>6</th>\n      <td>Travel</td>\n      <td>185</td>\n    </tr>\n    <tr>\n      <th>7</th>\n      <td>Music</td>\n      <td>185</td>\n    </tr>\n    <tr>\n      <th>8</th>\n      <td>Drama</td>\n      <td>181</td>\n    </tr>\n    <tr>\n      <th>9</th>\n      <td>Horror</td>\n      <td>181</td>\n    </tr>\n    <tr>\n      <th>10</th>\n      <td>Sci-Fi</td>\n      <td>185</td>\n    </tr>\n    <tr>\n      <th>11</th>\n      <td>Games</td>\n      <td>185</td>\n    </tr>\n    <tr>\n      <th>12</th>\n      <td>Documentary</td>\n      <td>183</td>\n    </tr>\n    <tr>\n      <th>13</th>\n      <td>Foreign</td>\n      <td>184</td>\n    </tr>\n    <tr>\n      <th>14</th>\n      <td>Action</td>\n      <td>185</td>\n    </tr>\n    <tr>\n      <th>15</th>\n      <td>Children</td>\n      <td>178</td>\n    </tr>\n  </tbody>\n</table>\n</div>"
     },
     "execution_count": 79,
     "metadata": {},
     "output_type": "execute_result"
    }
   ],
   "source": [
    "pd.read_sql(''' select cat.name, MAX(f.length)\n",
    "            from film f\n",
    "            INNER JOIN film_category fcat using(film_id)\n",
    "            INNER JOIN category cat using(category_id)\n",
    "            GROUP BY cat.name\n",
    "\n",
    "            ''',con=connection)"
   ],
   "metadata": {
    "collapsed": false,
    "pycharm": {
     "name": "#%%\n"
    }
   }
  }
 ],
 "metadata": {
  "kernelspec": {
   "name": "python3",
   "language": "python",
   "display_name": "Python 3 (ipykernel)"
  },
  "language_info": {
   "codemirror_mode": {
    "name": "ipython",
    "version": 3
   },
   "file_extension": ".py",
   "mimetype": "text/x-python",
   "name": "python",
   "nbconvert_exporter": "python",
   "pygments_lexer": "ipython3",
   "version": "3.7.6-final"
  }
 },
 "nbformat": 4,
 "nbformat_minor": 2
}