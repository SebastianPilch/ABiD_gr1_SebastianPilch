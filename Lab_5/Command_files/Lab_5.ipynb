{
 "cells": [
  {
   "cell_type": "markdown",
   "metadata": {
    "collapsed": true,
    "pycharm": {
     "name": "#%% md\n"
    }
   },
   "source": [
    "Dataset : weather.txt\n",
    "\n",
    "Tworzenie pliku zawierającego jedynie interesujące nas dane pomiarowe.\n",
    "Lista pomiarów z poszczególnych dni dla temperatur maksymalnej i\n",
    "minimalnej oraz pomiar pcrp"
   ]
  },
  {
   "cell_type": "code",
   "source": [
    "import  pandas as pd\n",
    "with open(\"../Original_data/weather.txt\", encoding='utf-8') as f:\n",
    "    text = f.readlines()\n",
    "    j=0\n",
    "    table = 'year;month;day;tmax;tmin;prcp'+'\\n'\n",
    "    for i in range(1,1713,3):\n",
    "        if text[i-j][11:15] == '2010':\n",
    "            if text[i-j][17:21] == 'TMIN':\n",
    "                for d in range(1,32):\n",
    "                    new_line = ''\n",
    "                    tmax = text[i-1-j][13+8*d:20+8*d]\n",
    "                    if tmax == '-9999  ':\n",
    "                        tmax = 'NaN'\n",
    "\n",
    "                    tmin = text[i-j][13+8*d:20+8*d]\n",
    "                    if tmin == '-9999  ':\n",
    "                        tmin = 'NaN'\n",
    "\n",
    "                    prcp = text[i+1-j][13+8*d:20+8*d]\n",
    "                    if prcp == '-9999  ':\n",
    "                        prcp = 'NaN'\n",
    "                    if tmin != 'NaN' or tmax != 'NaN' or prcp != 'NaN':\n",
    "                        if d < 10:\n",
    "                            new_line += text[i-j][11:15]+';'+text[i-j][15:17]+';0'+str(d)+';'+tmax+';'+tmin+';'+prcp\n",
    "                            new_line += '\\n'\n",
    "                        else:\n",
    "                            new_line += text[i-j][11:15]+';'+text[i-j][15:17]+';'+str(d)+';'+tmax+';'+tmin+';'+prcp\n",
    "                            new_line += '\\n'\n",
    "                        table += new_line\n",
    "            if text[i-j][17:21] != 'TMIN':\n",
    "                # print(i)\n",
    "                new_line = ''\n",
    "                for d in range(1,32):\n",
    "                    prcp = text[i-1-j][13+8*d:20+8*d]\n",
    "                    if prcp == '-9999  ':\n",
    "                        prcp = 'NaN'\n",
    "                    if prcp != 'NaN':\n",
    "                        if d < 10:\n",
    "                            new_line += text[i-1-j][11:15]+';'+text[i-1-j][15:17]+';0'+str(d)+';'+'NaN'+';'+'NaN'+';'+prcp\n",
    "                            new_line += '\\n'\n",
    "                        else:\n",
    "                            new_line += text[i-1-j][11:15]+';'+text[i-1-j][15:17]+';'+str(d)+';'+'NaN'+';'+'NaN'+';'+prcp\n",
    "                            new_line += '\\n'\n",
    "                table += new_line\n",
    "                j += 2\n",
    "w = open('weather2.txt','wt')\n",
    "w.write(table)\n",
    "w.close()\n",
    "# file = ''\n",
    "weather3 = pd.read_csv(\"weather2.txt\", delimiter=';')\n",
    "weather3.to_csv('../Documents/weather3.csv',sep = ';')\n",
    "f.close()"
   ],
   "metadata": {
    "collapsed": false,
    "pycharm": {
     "name": "#%%\n"
    }
   },
   "execution_count": 36,
   "outputs": []
  },
  {
   "cell_type": "markdown",
   "source": [
    "Obliczenia analityczne\n",
    "\n",
    "Wyliczenie średnich wartości pcrp i wyznaczanie\n",
    "skrajnych pomiarów temperatury dla każdego miesiąca."
   ],
   "metadata": {
    "collapsed": false,
    "pycharm": {
     "name": "#%% md\n"
    }
   }
  },
  {
   "cell_type": "code",
   "execution_count": 37,
   "outputs": [],
   "source": [
    "new_table = weather3[['month','tmax','tmin','prcp']]\n",
    "data_to_list = new_table.values.tolist()\n",
    "a = data_to_list[0][1]\n",
    "\n",
    "analyse_max_temp = [None] *12\n",
    "analyse_min_temp = [None] *12\n",
    "sum_prcb_per_month = [None] *12\n",
    "mesure_per_month = [0] * 12\n",
    "for mesure in data_to_list:\n",
    "    if analyse_max_temp[int(mesure[0]-1)] is None or mesure[1] > analyse_max_temp[int(mesure[0]-1)]:\n",
    "        if not pd.isna(mesure[1]) :\n",
    "            analyse_max_temp[int(mesure[0]-1)] = mesure[1]\n",
    "    if analyse_min_temp[int(mesure[0]-1)] is None or mesure[2] < analyse_min_temp[int(mesure[0]-1)]:\n",
    "        if not pd.isna(mesure[2]):\n",
    "            analyse_min_temp[int(mesure[0]-1)] = mesure[2]\n",
    "    if not pd.isna(mesure[3]):\n",
    "        if sum_prcb_per_month[int(mesure[0]-1)] is None:\n",
    "            sum_prcb_per_month[int(mesure[0]-1)] = 0\n",
    "        sum_prcb_per_month[int(mesure[0]-1)] += mesure[3]\n",
    "    mesure_per_month[int(mesure[0]-1)] += 1\n",
    "for i in range(0,12):\n",
    "    if mesure_per_month[i] != 0:\n",
    "        sum_prcb_per_month[i] = sum_prcb_per_month[i]/ mesure_per_month[i]\n"
   ],
   "metadata": {
    "collapsed": false,
    "pycharm": {
     "name": "#%%\n"
    }
   }
  },
  {
   "cell_type": "markdown",
   "source": [
    "Wyrysowanie wykresu zawierającego przeanalizowane dane."
   ],
   "metadata": {
    "collapsed": false
   }
  },
  {
   "cell_type": "code",
   "execution_count": 38,
   "outputs": [
    {
     "data": {
      "text/plain": "<Figure size 864x360 with 1 Axes>",
      "image/png": "[encoded data removed]"
     },
     "metadata": {
      "needs_background": "light"
     },
     "output_type": "display_data"
    }
   ],
   "source": [
    "from matplotlib import pyplot as plt\n",
    "from matplotlib.patches import Patch\n",
    "import numpy as np\n",
    "\n",
    "def plot_wykres(tmin,tmax,avg,mes_p_m, bars):\n",
    "    d_i = 0\n",
    "    for i in range(len(mes_p_m)):\n",
    "        if tmin[i] is None:\n",
    "            tmin[i] = 0\n",
    "        if tmax[i] is None:\n",
    "            tmax[i] = 0\n",
    "\n",
    "\n",
    "    y_posmax = np.arange(len(tmax))\n",
    "    y_postmin = np.arange(len(tmin))\n",
    "    plt.figure(figsize=(12,5))\n",
    "    plt.bar(y_posmax,tmax, color = 'red', label = 'Maximal Temperature')\n",
    "    plt.xticks(y_posmax, bars)\n",
    "    plt.xlabel('Miesiąc')\n",
    "    plt.ylabel('Podstawowa jednostka pomiarowa')\n",
    "    plt.title('Rozkład temperatur i wskaźnika prcp na przestrzeni roku', fontsize=16)\n",
    "    plt.bar(y_postmin,tmin, color = 'blue', label = 'Minimal Temperature')\n",
    "    plt.xticks(y_postmin, bars)\n",
    "    plt.plot([1,2,3,4,5,6,7,8,9,10,11,12],avg,linewidth=4.0, label = 'PRCP')\n",
    "    plt.legend()\n",
    "    plt.savefig('../Analysis/Wykres_analiza_')\n",
    "\n",
    "bars_ = ['Styczeń', 'Luty', 'Marzec', 'Kwiecień', 'Maj', 'Czerwiec', 'Lipiec','Sierpień','Wrzesień','Październik','Listopad','Grudzień']\n",
    "plot_wykres(analyse_min_temp,analyse_max_temp,sum_prcb_per_month,mesure_per_month,bars_)"
   ],
   "metadata": {
    "collapsed": false,
    "pycharm": {
     "name": "#%%\n"
    }
   }
  }
 ],
 "metadata": {
  "kernelspec": {
   "display_name": "Python 3",
   "language": "python",
   "name": "python3"
  },
  "language_info": {
   "codemirror_mode": {
    "name": "ipython",
    "version": 2
   },
   "file_extension": ".py",
   "mimetype": "text/x-python",
   "name": "python",
   "nbconvert_exporter": "python",
   "pygments_lexer": "ipython2",
   "version": "2.7.6"
  }
 },
 "nbformat": 4,
 "nbformat_minor": 0
}